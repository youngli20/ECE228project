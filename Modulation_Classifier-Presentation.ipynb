{
 "cells": [
  {
   "cell_type": "markdown",
   "metadata": {},
   "source": [
    "# Modulation Classification\n",
    "### Group 38: Kartik Kulgod, Young Li, Parker Martin"
   ]
  },
  {
   "cell_type": "markdown",
   "metadata": {},
   "source": [
    "## Import Statements"
   ]
  },
  {
   "cell_type": "code",
   "execution_count": 1,
   "metadata": {},
   "outputs": [],
   "source": [
    "import pickle\n",
    "import numpy as np\n",
    "import matplotlib.pyplot as plt\n",
    "import torch\n",
    "import torch.nn as nn\n",
    "import torch.nn.functional as F\n",
    "import torchvision\n",
    "import torchvision.transforms as transforms\n",
    "from tqdm import tqdm"
   ]
  },
  {
   "cell_type": "markdown",
   "metadata": {},
   "source": [
    "## Define Neural Network"
   ]
  },
  {
   "cell_type": "code",
   "execution_count": 2,
   "metadata": {},
   "outputs": [],
   "source": [
    "class ModulationClassifier(torch.nn.Module):\n",
    "    def __init__(self, num_classes=11):\n",
    "        super(ModulationClassifier, self).__init__()\n",
    "        \n",
    "        # Treating input as 2x128 image with 1 channel (depth 1)\n",
    "        self.conv1 = torch.nn.Sequential(torch.nn.Conv2d(in_channels=1, out_channels=256, kernel_size=(1,3), padding=(0,2)), torch.nn.BatchNorm2d(256))\n",
    "        self.conv2 = torch.nn.Sequential(torch.nn.Conv2d(in_channels=256, out_channels=80, kernel_size=(2,3), padding=(0,2)), torch.nn.BatchNorm2d(80))\n",
    "        self.classifier = torch.nn.Sequential(torch.nn.Linear(in_features=10560, out_features=256),\n",
    "                                              torch.nn.ReLU(True),\n",
    "                                             torch.nn.Linear(in_features=256, out_features=11))\n",
    "\n",
    "    def forward(self, x):\n",
    "        y1 = F.relu(self.conv1(x))\n",
    "        y2 = F.relu(self.conv2(y1))\n",
    "        y3 = torch.flatten(y2, 1)\n",
    "        y4 = self.classifier(y3)\n",
    "        return y4"
   ]
  },
  {
   "cell_type": "markdown",
   "metadata": {},
   "source": [
    "## Setup Input Data"
   ]
  },
  {
   "cell_type": "markdown",
   "metadata": {},
   "source": [
    "### Read data from file"
   ]
  },
  {
   "cell_type": "code",
   "execution_count": 3,
   "metadata": {
    "scrolled": true
   },
   "outputs": [
    {
     "name": "stdout",
     "output_type": "stream",
     "text": [
      "['8PSK', 'AM-DSB', 'AM-SSB', 'BPSK', 'CPFSK', 'GFSK', 'PAM4', 'QAM16', 'QAM64', 'QPSK', 'WBFM']\n",
      "[-20, -18, -16, -14, -12, -10, -8, -6, -4, -2, 0, 2, 4, 6, 8, 10, 12, 14, 16, 18]\n"
     ]
    }
   ],
   "source": [
    "fname = 'RML2016.10a_dict.pkl'\n",
    "f = open(fname,'rb')\n",
    "\n",
    "input_data_dict = pickle.load(f, encoding='latin1')\n",
    "\n",
    "input_data_dict_keys = sorted(input_data_dict.keys())\n",
    "\n",
    "modulation_types    = [input_data_dict_keys[i*20][0] for i in range(0,11)]\n",
    "snr_types           = [input_data_dict_keys[i][1] for i in range(0,20)]\n",
    "\n",
    "print(modulation_types)\n",
    "print(snr_types)"
   ]
  },
  {
   "cell_type": "markdown",
   "metadata": {},
   "source": [
    "## Create Pytorch Dataset"
   ]
  },
  {
   "cell_type": "code",
   "execution_count": 4,
   "metadata": {},
   "outputs": [],
   "source": [
    "class myDataset(torch.utils.data.Dataset):\n",
    "    def __init__(self, X,Y,Z, transform=None):\n",
    "        self.X = X\n",
    "        self.Y = Y\n",
    "        self.Z = Z\n",
    "        self.transform = transform\n",
    "        \n",
    "    def __len__(self):\n",
    "        return len(self.X)\n",
    "    \n",
    "    def __getitem__(self, idx):\n",
    "        rX, rY, rZ = torch.unsqueeze(torch.from_numpy(self.X[idx]),dim=0).float(), torch.tensor(self.Y[idx]), torch.tensor(self.Z[idx])\n",
    "        if(self.transform):\n",
    "            rX, rY, rZ = self.transform(self.X[idx]),torch.tensor(self.Y[idx]),torch.tensor(self.Z[idx])\n",
    "            \n",
    "        return rX, rY, rZ"
   ]
  },
  {
   "cell_type": "markdown",
   "metadata": {},
   "source": [
    "## Train with only positive SNR values"
   ]
  },
  {
   "cell_type": "markdown",
   "metadata": {},
   "source": [
    "### Create data arrays"
   ]
  },
  {
   "cell_type": "code",
   "execution_count": 5,
   "metadata": {},
   "outputs": [
    {
     "name": "stdout",
     "output_type": "stream",
     "text": [
      "220000\n"
     ]
    }
   ],
   "source": [
    "image_psnr = []\n",
    "modulation_psnr = []\n",
    "snr_psnr = []\n",
    "\n",
    "for m_cnt,m in enumerate(modulation_types,0):\n",
    "    for s in snr_types[10:]:\n",
    "        image_psnr.extend(input_data_dict[(m,s)])\n",
    "        modulation_psnr.extend([m_cnt for _ in range(0,1000)])\n",
    "        snr_psnr.extend([s for _ in range(0,1000)])\n",
    "        \n",
    "image_nsnr = []\n",
    "modulation_nsnr = []\n",
    "snr_nsnr = []\n",
    "\n",
    "for m_cnt,m in enumerate(modulation_types,0):\n",
    "    for s in snr_types[:10]:\n",
    "        image_nsnr.extend(input_data_dict[(m,s)])\n",
    "        modulation_nsnr.extend([m_cnt for _ in range(0,1000)])\n",
    "        snr_nsnr.extend([s for _ in range(0,1000)])\n",
    "        \n",
    "image_asnr = []\n",
    "image_asnr.extend(image_psnr)\n",
    "image_asnr.extend(image_nsnr)\n",
    "modulation_asnr = []\n",
    "modulation_asnr.extend(modulation_psnr)\n",
    "modulation_asnr.extend(modulation_nsnr)\n",
    "snr_asnr = []\n",
    "snr_asnr.extend(snr_psnr)\n",
    "snr_asnr.extend(snr_nsnr)\n",
    "        \n",
    "        \n",
    "image_psnr = np.array(image_psnr)\n",
    "modulation_psnr = np.array(modulation_psnr)\n",
    "snr_psnr = np.array(snr_psnr)\n",
    "\n",
    "image_nsnr = np.array(image_nsnr)\n",
    "modulation_nsnr = np.array(modulation_nsnr)\n",
    "snr_nsnr = np.array(snr_nsnr)\n",
    "\n",
    "image_asnr = np.array(image_asnr)\n",
    "modulation_asnr = np.array(modulation_asnr)\n",
    "snr_asnr = np.array(snr_asnr)\n",
    "\n",
    "print(len(image_asnr))"
   ]
  },
  {
   "cell_type": "markdown",
   "metadata": {},
   "source": [
    "### Create Dataloaders"
   ]
  },
  {
   "cell_type": "code",
   "execution_count": 6,
   "metadata": {},
   "outputs": [],
   "source": [
    "transformed_dataset_psnr = myDataset(image_psnr, modulation_psnr, snr_psnr,transforms.Compose([transforms.ToTensor(),transforms.Normalize((0,),(1,))]))\n",
    "transformed_dataset_nsnr = myDataset(image_nsnr, modulation_nsnr, snr_nsnr,transforms.Compose([transforms.ToTensor(),transforms.Normalize((0,),(1,))]))\n",
    "transformed_dataset_asnr = myDataset(image_asnr, modulation_asnr, snr_asnr,transforms.Compose([transforms.ToTensor(),transforms.Normalize((0,),(1,))]))\n",
    "\n",
    "l = list(range(0, 110000))\n",
    "np.random.shuffle(l)\n",
    "split = 0.5\n",
    "train_indices_psnr, test_indices_psnr = l[:int(split*110000)],l[int(split*110000):]\n",
    "test_indices_nsnr = l\n",
    "\n",
    "l = list(range(0, 220000))\n",
    "np.random.shuffle(l)\n",
    "split = 0.5\n",
    "train_indices_asnr, test_indices_asnr = l[:int(split*220000)],l[int(split*220000):]\n",
    "\n",
    "train_sampler_psnr = torch.utils.data.SubsetRandomSampler(train_indices_psnr)\n",
    "test_sampler_psnr  = torch.utils.data.SubsetRandomSampler(test_indices_psnr)\n",
    "test_sampler_nsnr  = torch.utils.data.SubsetRandomSampler(test_indices_nsnr)\n",
    "\n",
    "train_sampler_asnr = torch.utils.data.SubsetRandomSampler(train_indices_asnr)\n",
    "test_sampler_asnr  = torch.utils.data.SubsetRandomSampler(test_indices_asnr)\n",
    "#PSNR\n",
    "trainloader_psnr   = torch.utils.data.DataLoader(transformed_dataset_psnr, batch_size=128, shuffle=False, num_workers=2, sampler=train_sampler_psnr, pin_memory=True)\n",
    "testloader_psnr    = torch.utils.data.DataLoader(transformed_dataset_psnr, batch_size=1, shuffle=False, num_workers=2, sampler=test_sampler_psnr, pin_memory=True)\n",
    "testloader_nsnr    = torch.utils.data.DataLoader(transformed_dataset_nsnr, batch_size=1, shuffle=False, num_workers=2, sampler=test_sampler_nsnr, pin_memory=True)\n",
    "\n",
    "#ASNR\n",
    "trainloader_asnr   = torch.utils.data.DataLoader(transformed_dataset_asnr, batch_size=128, shuffle=False, num_workers=2, sampler=train_sampler_asnr, pin_memory=True)\n",
    "testloader_asnr    = torch.utils.data.DataLoader(transformed_dataset_asnr, batch_size=1, shuffle=False, num_workers=2, sampler=test_sampler_asnr, pin_memory=True)"
   ]
  },
  {
   "cell_type": "markdown",
   "metadata": {},
   "source": [
    "## Intialize NN, Optimizer, Loss function"
   ]
  },
  {
   "cell_type": "code",
   "execution_count": 7,
   "metadata": {},
   "outputs": [
    {
     "name": "stdout",
     "output_type": "stream",
     "text": [
      "ModulationClassifier(\n",
      "  (conv1): Sequential(\n",
      "    (0): Conv2d(1, 256, kernel_size=(1, 3), stride=(1, 1), padding=(0, 2))\n",
      "    (1): BatchNorm2d(256, eps=1e-05, momentum=0.1, affine=True, track_running_stats=True)\n",
      "  )\n",
      "  (conv2): Sequential(\n",
      "    (0): Conv2d(256, 80, kernel_size=(2, 3), stride=(1, 1), padding=(0, 2))\n",
      "    (1): BatchNorm2d(80, eps=1e-05, momentum=0.1, affine=True, track_running_stats=True)\n",
      "  )\n",
      "  (classifier): Sequential(\n",
      "    (0): Linear(in_features=10560, out_features=256, bias=True)\n",
      "    (1): ReLU(inplace=True)\n",
      "    (2): Linear(in_features=256, out_features=11, bias=True)\n",
      "  )\n",
      ")\n",
      "conv1.0.weight                          \ttorch.Size([256, 1, 1, 3])    \t       768\n",
      "conv1.0.bias                            \ttorch.Size([256])             \t       256\n",
      "conv1.1.weight                          \ttorch.Size([256])             \t       256\n",
      "conv1.1.bias                            \ttorch.Size([256])             \t       256\n",
      "conv2.0.weight                          \ttorch.Size([80, 256, 2, 3])   \t    122880\n",
      "conv2.0.bias                            \ttorch.Size([80])              \t        80\n",
      "conv2.1.weight                          \ttorch.Size([80])              \t        80\n",
      "conv2.1.bias                            \ttorch.Size([80])              \t        80\n",
      "classifier.0.weight                     \ttorch.Size([256, 10560])      \t   2703360\n",
      "classifier.0.bias                       \ttorch.Size([256])             \t       256\n",
      "classifier.2.weight                     \ttorch.Size([11, 256])         \t      2816\n",
      "classifier.2.bias                       \ttorch.Size([11])              \t        11\n"
     ]
    }
   ],
   "source": [
    "net = ModulationClassifier()\n",
    "\n",
    "learning_rate = 0.01\n",
    "\n",
    "criterion = nn.CrossEntropyLoss()\n",
    "\n",
    "optimizer = torch.optim.SGD(net.parameters(), lr=learning_rate, momentum=0.9)\n",
    "\n",
    "device = torch.device(\"cuda:0\" if torch.cuda.is_available() else \"cpu\")\n",
    "\n",
    "net.to(device)\n",
    "\n",
    "print(net)\n",
    "for name, param in net.named_parameters():\n",
    "    print('{:s}\\t{:s}\\t{:s}'.format(name.ljust(40), str(param.size()).ljust(30),str(param.nelement()).rjust(10)))"
   ]
  },
  {
   "cell_type": "markdown",
   "metadata": {},
   "source": [
    "## Train NN"
   ]
  },
  {
   "cell_type": "code",
   "execution_count": 8,
   "metadata": {
    "scrolled": true
   },
   "outputs": [
    {
     "name": "stdout",
     "output_type": "stream",
     "text": [
      "Epoch 0, Training Loss 0.795499\n",
      "Epoch 1, Training Loss 0.495227\n",
      "Epoch 2, Training Loss 0.439237\n",
      "Epoch 3, Training Loss 0.395535\n",
      "Epoch 4, Training Loss 0.369175\n",
      "Epoch 5, Training Loss 0.338165\n",
      "Epoch 6, Training Loss 0.312121\n",
      "Epoch 7, Training Loss 0.283148\n",
      "Epoch 8, Training Loss 0.257490\n",
      "Epoch 9, Training Loss 0.227101\n",
      "Epoch 10, Training Loss 0.207913\n",
      "Epoch 11, Training Loss 0.178198\n",
      "Epoch 12, Training Loss 0.161253\n",
      "Epoch 13, Training Loss 0.144218\n",
      "Epoch 14, Training Loss 0.135054\n",
      "Epoch 15, Training Loss 0.123659\n",
      "Epoch 16, Training Loss 0.112880\n",
      "Epoch 17, Training Loss 0.105294\n",
      "Epoch 18, Training Loss 0.099423\n",
      "Epoch 19, Training Loss 0.090580\n",
      "Epoch 20, Training Loss 0.089180\n",
      "Epoch 21, Training Loss 0.086165\n",
      "Epoch 22, Training Loss 0.082080\n",
      "Epoch 23, Training Loss 0.080959\n",
      "Epoch 24, Training Loss 0.078669\n",
      "Epoch 25, Training Loss 0.076261\n",
      "Epoch 26, Training Loss 0.074711\n",
      "Epoch 27, Training Loss 0.073854\n",
      "Epoch 28, Training Loss 0.073370\n",
      "Epoch 29, Training Loss 0.072808\n",
      "Epoch 30, Training Loss 0.069919\n",
      "Epoch 31, Training Loss 0.069538\n",
      "Epoch 32, Training Loss 0.069708\n",
      "Epoch 33, Training Loss 0.067529\n",
      "Epoch 34, Training Loss 0.067871\n",
      "Epoch 35, Training Loss 0.066181\n",
      "Epoch 36, Training Loss 0.065492\n",
      "Epoch 37, Training Loss 0.064696\n",
      "Epoch 38, Training Loss 0.063677\n",
      "Epoch 39, Training Loss 0.062703\n",
      "Epoch 40, Training Loss 0.060506\n",
      "Epoch 41, Training Loss 0.060083\n",
      "Epoch 42, Training Loss 0.062095\n",
      "Epoch 43, Training Loss 0.060245\n",
      "Epoch 44, Training Loss 0.058349\n",
      "Epoch 45, Training Loss 0.058453\n",
      "Epoch 46, Training Loss 0.058025\n",
      "Epoch 47, Training Loss 0.057565\n",
      "Epoch 48, Training Loss 0.057476\n",
      "Epoch 49, Training Loss 0.066104\n",
      "Finished Training\n"
     ]
    }
   ],
   "source": [
    "num_epochs = 50\n",
    "epoch_loss_array = []\n",
    "\n",
    "for epoch in range(num_epochs):  # loop over the dataset multiple times\n",
    "\n",
    "    running_loss = 0\n",
    "    \n",
    "    for i, data in enumerate(trainloader_psnr):\n",
    "        x,y,z = data\n",
    "        x,y,z = x.to(device), y.to(device), z.to(device)\n",
    "        optimizer.zero_grad()\n",
    "\n",
    "        y_pred = net.forward(x)   # Run batch\n",
    "        loss = criterion(y_pred, y.long())  # Wants indexes for labels, *not* one-hot encodings.\n",
    "        loss.backward()                               # Compute backprop\n",
    "        optimizer.step()                              # Move a step in the right direction\n",
    "\n",
    "        running_loss += loss.item()\n",
    "        \n",
    "    print('Epoch {:d}, Training Loss {:f}'.format(epoch,running_loss/len(trainloader_psnr)))\n",
    "    epoch_loss_array.append(running_loss/len(trainloader_psnr))\n",
    "\n",
    "print('Finished Training')"
   ]
  },
  {
   "cell_type": "code",
   "execution_count": 9,
   "metadata": {},
   "outputs": [
    {
     "data": {
      "image/png": "[encoded data removed]",
      "text/plain": [
       "<Figure size 432x288 with 1 Axes>"
      ]
     },
     "metadata": {
      "needs_background": "light"
     },
     "output_type": "display_data"
    }
   ],
   "source": [
    "plt.plot(list(range(0,num_epochs)), epoch_loss_array)\n",
    "plt.xlabel('Epochs')\n",
    "plt.ylabel('Training Loss')\n",
    "plt.title('Training Loss vs Epochs')\n",
    "plt.show()"
   ]
  },
  {
   "cell_type": "markdown",
   "metadata": {},
   "source": [
    "## Test NN"
   ]
  },
  {
   "cell_type": "code",
   "execution_count": 10,
   "metadata": {},
   "outputs": [
    {
     "name": "stdout",
     "output_type": "stream",
     "text": [
      "Accuracy of the network on the test images: 37.086667 %\n"
     ]
    }
   ],
   "source": [
    "PATH = './temp_model_psnr.pth'\n",
    "torch.save(net.state_dict(), PATH) \n",
    "\n",
    "model1 = ModulationClassifier()\n",
    "model1.to(device)\n",
    "model1.load_state_dict(torch.load(PATH))\n",
    "\n",
    "correct = 0\n",
    "total = 0\n",
    "\n",
    "snr_accuracy = dict()\n",
    "for i in range(-20,20,2):\n",
    "    k = str(i)\n",
    "    snr_accuracy[k] = [0,0]\n",
    "    \n",
    "model1.eval()\n",
    "for i,data in enumerate(testloader_psnr):\n",
    "    x,y,z = data\n",
    "    x,y,z = x.to(device), y.to(device), z.to(device)\n",
    "\n",
    "    y_pred = model1.forward(x)\n",
    "    correct += torch.sum((torch.argmax(y_pred,dim=1) == y)).item()\n",
    "    snr_value = z.item()\n",
    "\n",
    "    snr_accuracy[str(int(snr_value))][0] += torch.sum((torch.argmax(y_pred,dim=1) == y)).item()\n",
    "    snr_accuracy[str(int(snr_value))][1] += 1\n",
    "    \n",
    "    total += 1 #Increase by batch size\n",
    "\n",
    "for i,data in enumerate(testloader_nsnr):\n",
    "    x,y,z = data\n",
    "    x,y,z = x.to(device), y.to(device), z.to(device)\n",
    "\n",
    "    y_pred = model1.forward(x)\n",
    "    correct += torch.sum((torch.argmax(y_pred,dim=1) == y)).item()\n",
    "    snr_value = z.item()\n",
    "\n",
    "    snr_accuracy[str(int(snr_value))][0] += torch.sum((torch.argmax(y_pred,dim=1) == y)).item()\n",
    "    snr_accuracy[str(int(snr_value))][1] += 1\n",
    "    \n",
    "    total += 1 #Increase by batch size\n",
    "\n",
    "print('Accuracy of the network on the test images: %f %%' % (\n",
    "    100 * correct / total))"
   ]
  },
  {
   "cell_type": "code",
   "execution_count": 11,
   "metadata": {},
   "outputs": [
    {
     "name": "stdout",
     "output_type": "stream",
     "text": [
      "SNR -20 Accuracy 9.045455 %\n",
      "SNR -18 Accuracy 9.090909 %\n",
      "SNR -16 Accuracy 9.109091 %\n",
      "SNR -14 Accuracy 9.100000 %\n",
      "SNR -12 Accuracy 9.236364 %\n",
      "SNR -10 Accuracy 9.690909 %\n",
      "SNR -8 Accuracy 11.027273 %\n",
      "SNR -6 Accuracy 15.009091 %\n",
      "SNR -4 Accuracy 26.027273 %\n",
      "SNR -2 Accuracy 52.100000 %\n",
      "SNR 0 Accuracy 71.520343 %\n",
      "SNR 2 Accuracy 77.250229 %\n",
      "SNR 4 Accuracy 79.644412 %\n",
      "SNR 6 Accuracy 81.069364 %\n",
      "SNR 8 Accuracy 80.716601 %\n",
      "SNR 10 Accuracy 81.085526 %\n",
      "SNR 12 Accuracy 80.675799 %\n",
      "SNR 14 Accuracy 80.140403 %\n",
      "SNR 16 Accuracy 81.069733 %\n",
      "SNR 18 Accuracy 80.694419 %\n"
     ]
    }
   ],
   "source": [
    "snr_accuracy_array = []\n",
    "for key, values in snr_accuracy.items():\n",
    "        print('SNR {:s} Accuracy {:f} %'.format(key, 100*values[0]/values[1]))\n",
    "        snr_accuracy_array.append(100*values[0]/values[1])"
   ]
  },
  {
   "cell_type": "code",
   "execution_count": 12,
   "metadata": {},
   "outputs": [
    {
     "data": {
      "image/png": "[encoded data removed]",
      "text/plain": [
       "<Figure size 432x288 with 1 Axes>"
      ]
     },
     "metadata": {
      "needs_background": "light"
     },
     "output_type": "display_data"
    }
   ],
   "source": [
    "plt.plot(snr_types, snr_accuracy_array,'b.-')\n",
    "plt.xlabel('SNR in dB')\n",
    "plt.ylabel('Accuracy')\n",
    "plt.title('Accuracy vs SNR')\n",
    "plt.show()"
   ]
  },
  {
   "cell_type": "markdown",
   "metadata": {},
   "source": [
    "## Train with all SNR values to see accuracy.  "
   ]
  },
  {
   "cell_type": "markdown",
   "metadata": {},
   "source": [
    "## Intialize NN, Optimizer, Loss function"
   ]
  },
  {
   "cell_type": "code",
   "execution_count": 13,
   "metadata": {},
   "outputs": [
    {
     "name": "stdout",
     "output_type": "stream",
     "text": [
      "110000\n",
      "430\n",
      "cuda:0\n",
      "ModulationClassifier(\n",
      "  (conv1): Sequential(\n",
      "    (0): Conv2d(1, 256, kernel_size=(1, 3), stride=(1, 1), padding=(0, 2))\n",
      "    (1): BatchNorm2d(256, eps=1e-05, momentum=0.1, affine=True, track_running_stats=True)\n",
      "  )\n",
      "  (conv2): Sequential(\n",
      "    (0): Conv2d(256, 80, kernel_size=(2, 3), stride=(1, 1), padding=(0, 2))\n",
      "    (1): BatchNorm2d(80, eps=1e-05, momentum=0.1, affine=True, track_running_stats=True)\n",
      "  )\n",
      "  (classifier): Sequential(\n",
      "    (0): Linear(in_features=10560, out_features=256, bias=True)\n",
      "    (1): ReLU(inplace=True)\n",
      "    (2): Linear(in_features=256, out_features=11, bias=True)\n",
      "  )\n",
      ")\n",
      "conv1.0.weight                          \ttorch.Size([256, 1, 1, 3])    \t       768\n",
      "conv1.0.bias                            \ttorch.Size([256])             \t       256\n",
      "conv1.1.weight                          \ttorch.Size([256])             \t       256\n",
      "conv1.1.bias                            \ttorch.Size([256])             \t       256\n",
      "conv2.0.weight                          \ttorch.Size([80, 256, 2, 3])   \t    122880\n",
      "conv2.0.bias                            \ttorch.Size([80])              \t        80\n",
      "conv2.1.weight                          \ttorch.Size([80])              \t        80\n",
      "conv2.1.bias                            \ttorch.Size([80])              \t        80\n",
      "classifier.0.weight                     \ttorch.Size([256, 10560])      \t   2703360\n",
      "classifier.0.bias                       \ttorch.Size([256])             \t       256\n",
      "classifier.2.weight                     \ttorch.Size([11, 256])         \t      2816\n",
      "classifier.2.bias                       \ttorch.Size([11])              \t        11\n"
     ]
    }
   ],
   "source": [
    "net = ModulationClassifier()\n",
    "\n",
    "learning_rate = 0.01\n",
    "\n",
    "criterion = nn.CrossEntropyLoss()\n",
    "optimizer = torch.optim.SGD(net.parameters(), lr=learning_rate, momentum=0.9)\n",
    "\n",
    "device = torch.device(\"cuda:0\" if torch.cuda.is_available() else \"cpu\")\n",
    "print(len(transformed_dataset_psnr))\n",
    "print(len(trainloader_psnr))\n",
    "\n",
    "# Assuming that we are on a CUDA machine, this should print a CUDA device:\n",
    "print(device)\n",
    "net.to(device)\n",
    "\n",
    "print(net)\n",
    "for name, param in net.named_parameters():\n",
    "    #if param.requires_grad:\n",
    "    print('{:s}\\t{:s}\\t{:s}'.format(name.ljust(40), str(param.size()).ljust(30),str(param.nelement()).rjust(10)))"
   ]
  },
  {
   "cell_type": "markdown",
   "metadata": {},
   "source": [
    "## Train NN"
   ]
  },
  {
   "cell_type": "code",
   "execution_count": 14,
   "metadata": {},
   "outputs": [
    {
     "name": "stdout",
     "output_type": "stream",
     "text": [
      "1.4858471505863722\n",
      "1.2937767804362053\n",
      "1.2317258193742397\n",
      "1.1790891404761825\n",
      "1.1263581289801488\n",
      "1.0616162320209104\n",
      "0.9921406226795774\n",
      "0.9043277023836623\n",
      "0.7985678465560425\n",
      "0.6843555568609127\n",
      "0.5535382823542107\n",
      "0.4242558352129404\n",
      "0.3196333116570184\n",
      "0.23038927353052205\n",
      "0.1667862384818321\n",
      "0.12941525095943796\n",
      "0.10887835466757763\n",
      "0.08931274032003658\n",
      "0.07441193802758705\n",
      "0.06422909603909005\n",
      "0.06567789705600156\n",
      "0.05934579704216746\n",
      "0.049694065918582817\n",
      "0.044443975436652815\n",
      "0.04103507632173078\n",
      "0.03851637604624726\n",
      "0.037416198576778865\n",
      "0.03598408476709453\n",
      "0.035443340254904226\n",
      "0.03528761870206096\n",
      "0.03617062963285418\n",
      "0.03523782920958691\n",
      "0.03345454211460513\n",
      "0.034045992263181266\n",
      "0.03233425709483929\n",
      "0.03195768573083157\n",
      "0.031083910258183644\n",
      "0.030911121896446445\n",
      "0.031084265585902125\n",
      "0.032455535865453786\n",
      "0.030292255667493093\n",
      "0.029863233784711812\n",
      "0.03086979260105033\n",
      "0.039941278093516136\n",
      "0.032200077444661496\n",
      "0.029939810123137567\n",
      "0.029310487316336568\n",
      "0.028509596657267836\n",
      "0.02883369304932827\n",
      "0.028722287913741068\n",
      "Finished Training\n"
     ]
    }
   ],
   "source": [
    "num_epochs = 50\n",
    "epoch_loss_array = []\n",
    "\n",
    "for epoch in range(num_epochs):  # loop over the dataset multiple times\n",
    "\n",
    "    running_loss = 0\n",
    "    \n",
    "    for i, data in enumerate(trainloader_asnr):\n",
    "        x,y,z = data\n",
    "        x,y,z = x.to(device), y.to(device), z.to(device)\n",
    "        optimizer.zero_grad()\n",
    "\n",
    "        y_pred = net.forward(x)   # Run batch\n",
    "        loss = criterion(y_pred, y.long())  # Wants indexes for labels, *not* one-hot encodings.\n",
    "        loss.backward()                               # Compute backprop\n",
    "        optimizer.step()                              # Move a step in the right direction\n",
    "\n",
    "        running_loss += loss.item()\n",
    "        \n",
    "    print(running_loss/len(trainloader_asnr))\n",
    "    epoch_loss_array.append(running_loss/len(trainloader_asnr))\n",
    "\n",
    "print('Finished Training')"
   ]
  },
  {
   "cell_type": "code",
   "execution_count": 15,
   "metadata": {},
   "outputs": [
    {
     "data": {
      "image/png": "[encoded data removed]",
      "text/plain": [
       "<Figure size 432x288 with 1 Axes>"
      ]
     },
     "metadata": {
      "needs_background": "light"
     },
     "output_type": "display_data"
    }
   ],
   "source": [
    "plt.plot(list(range(0,num_epochs)), epoch_loss_array)\n",
    "plt.xlabel('Epochs'\n",
    "plt.ylabel('Training Loss')\n",
    "plt.title('Training Loss vs Epochs')\n",
    "plt.show()"
   ]
  },
  {
   "cell_type": "markdown",
   "metadata": {},
   "source": [
    "## Test NN"
   ]
  },
  {
   "cell_type": "code",
   "execution_count": 16,
   "metadata": {},
   "outputs": [
    {
     "name": "stdout",
     "output_type": "stream",
     "text": [
      "Accuracy of the network on the test images: 48.663636 %\n"
     ]
    }
   ],
   "source": [
    "PATH = './temp_model_asnr.pth'\n",
    "torch.save(net.state_dict(), PATH) \n",
    "\n",
    "model1 = ModulationClassifier()\n",
    "model1.to(device)\n",
    "model1.load_state_dict(torch.load(PATH))\n",
    "\n",
    "correct = 0\n",
    "total = 0\n",
    "\n",
    "snr_accuracy = dict()\n",
    "for i in range(-20,20,2):\n",
    "    k = str(i)\n",
    "    snr_accuracy[k] = [0,0]\n",
    "    \n",
    "model1.eval()\n",
    "for i,data in enumerate(testloader_asnr):\n",
    "    x,y,z = data\n",
    "    x,y,z = x.to(device), y.to(device), z.to(device)\n",
    "\n",
    "    y_pred = model1.forward(x)\n",
    "    correct += torch.sum((torch.argmax(y_pred,dim=1) == y)).item()\n",
    "    snr_value = z.item()\n",
    "\n",
    "    snr_accuracy[str(int(snr_value))][0] += torch.sum((torch.argmax(y_pred,dim=1) == y)).item()\n",
    "    snr_accuracy[str(int(snr_value))][1] += 1\n",
    "    \n",
    "    total += 1 #Increase by batch size\n",
    "\n",
    "print('Accuracy of the network on the test images: %f %%' % (\n",
    "    100 * correct / total))"
   ]
  },
  {
   "cell_type": "code",
   "execution_count": 19,
   "metadata": {},
   "outputs": [
    {
     "name": "stdout",
     "output_type": "stream",
     "text": [
      "SNR -20 Accuracy 9.342749\n",
      "SNR -18 Accuracy 9.268293\n",
      "SNR -16 Accuracy 10.707837\n",
      "SNR -14 Accuracy 11.884111\n",
      "SNR -12 Accuracy 13.837272\n",
      "SNR -10 Accuracy 18.093350\n",
      "SNR -8 Accuracy 25.477360\n",
      "SNR -6 Accuracy 34.537861\n",
      "SNR -4 Accuracy 46.124454\n",
      "SNR -2 Accuracy 57.551320\n",
      "SNR 0 Accuracy 64.495294\n",
      "SNR 2 Accuracy 71.399927\n",
      "SNR 4 Accuracy 72.785040\n",
      "SNR 6 Accuracy 73.135409\n",
      "SNR 8 Accuracy 75.383505\n",
      "SNR 10 Accuracy 76.111213\n",
      "SNR 12 Accuracy 76.076040\n",
      "SNR 14 Accuracy 75.374224\n",
      "SNR 16 Accuracy 75.262093\n",
      "SNR 18 Accuracy 77.341335\n"
     ]
    }
   ],
   "source": [
    "snr_accuracy_array = []\n",
    "for key, values in snr_accuracy.items():\n",
    "    if(values[1]):\n",
    "        print('SNR {:s} Accuracy {:f}'.format(key, 100*values[0]/values[1]))\n",
    "        snr_accuracy_array.append(100*values[0]/values[1])"
   ]
  },
  {
   "cell_type": "code",
   "execution_count": 20,
   "metadata": {},
   "outputs": [
    {
     "data": {
      "image/png": "[encoded data removed]",
      "text/plain": [
       "<Figure size 432x288 with 1 Axes>"
      ]
     },
     "metadata": {
      "needs_background": "light"
     },
     "output_type": "display_data"
    }
   ],
   "source": [
    "plt.plot(snr_types, snr_accuracy_array,'b.-')\n",
    "plt.xlabel('SNR in dB')\n",
    "plt.ylabel('Accuracy')\n",
    "plt.title('Accuracy vs SNR')\n",
    "plt.show()"
   ]
  },
  {
   "cell_type": "markdown",
   "metadata": {},
   "source": [
    "### Above we have discussed that having -SNR values in our model will hinder our accuracy and we have shown that that is true.\n",
    "\n",
    "\n",
    "### Now, lets try to setup a validation set and do some hyperparameter tuning.\n"
   ]
  },
  {
   "cell_type": "markdown",
   "metadata": {},
   "source": [
    "### Define some data loaders"
   ]
  },
  {
   "cell_type": "code",
   "execution_count": 21,
   "metadata": {
    "scrolled": true
   },
   "outputs": [
    {
     "name": "stdout",
     "output_type": "stream",
     "text": [
      "77000 16500 16500\n"
     ]
    }
   ],
   "source": [
    "dataset_len = 110000\n",
    "l = list(range(0, dataset_len))\n",
    "np.random.shuffle(l)\n",
    "\n",
    "split = 0.7\n",
    "train_indices, test_indices = l[:int(split*dataset_len)], l[int(split*dataset_len):]\n",
    "\n",
    "valsplit = 0.5\n",
    "test_indices, val_indices = test_indices[:int(valsplit*len(test_indices))], test_indices[int(valsplit*len(test_indices)):]\n",
    "\n",
    "print(len(train_indices), len(test_indices),len(val_indices))\n",
    "\n",
    "train_sampler=torch.utils.data.SubsetRandomSampler(train_indices)\n",
    "test_sampler=torch.utils.data.SubsetRandomSampler(test_indices)\n",
    "val_sampler=torch.utils.data.SubsetRandomSampler(val_indices)\n",
    "\n",
    "trainloader = torch.utils.data.DataLoader(transformed_dataset_psnr, batch_size=128, shuffle=False, num_workers=2, sampler=train_sampler, pin_memory=True)\n",
    "valloader   = torch.utils.data.DataLoader(transformed_dataset_psnr, batch_size=128, shuffle=False, num_workers=2, sampler=val_sampler, pin_memory=True)\n",
    "testloader1 = torch.utils.data.DataLoader(transformed_dataset_psnr, batch_size=1, shuffle=False, num_workers=2, sampler=test_sampler, pin_memory=True)\n",
    "testloader2 = torch.utils.data.DataLoader(transformed_dataset_nsnr, batch_size=1, shuffle=False, num_workers=2, pin_memory=True)"
   ]
  },
  {
   "cell_type": "markdown",
   "metadata": {},
   "source": [
    "## Intialize NN, Optimizer, Loss function"
   ]
  },
  {
   "cell_type": "code",
   "execution_count": 22,
   "metadata": {},
   "outputs": [
    {
     "name": "stdout",
     "output_type": "stream",
     "text": [
      "cuda:0\n",
      "ModulationClassifier(\n",
      "  (conv1): Sequential(\n",
      "    (0): Conv2d(1, 256, kernel_size=(1, 3), stride=(1, 1), padding=(0, 2))\n",
      "    (1): BatchNorm2d(256, eps=1e-05, momentum=0.1, affine=True, track_running_stats=True)\n",
      "  )\n",
      "  (conv2): Sequential(\n",
      "    (0): Conv2d(256, 80, kernel_size=(2, 3), stride=(1, 1), padding=(0, 2))\n",
      "    (1): BatchNorm2d(80, eps=1e-05, momentum=0.1, affine=True, track_running_stats=True)\n",
      "  )\n",
      "  (classifier): Sequential(\n",
      "    (0): Linear(in_features=10560, out_features=256, bias=True)\n",
      "    (1): ReLU(inplace=True)\n",
      "    (2): Linear(in_features=256, out_features=11, bias=True)\n",
      "  )\n",
      ")\n",
      "conv1.0.weight                          \ttorch.Size([256, 1, 1, 3])    \t       768\n",
      "conv1.0.bias                            \ttorch.Size([256])             \t       256\n",
      "conv1.1.weight                          \ttorch.Size([256])             \t       256\n",
      "conv1.1.bias                            \ttorch.Size([256])             \t       256\n",
      "conv2.0.weight                          \ttorch.Size([80, 256, 2, 3])   \t    122880\n",
      "conv2.0.bias                            \ttorch.Size([80])              \t        80\n",
      "conv2.1.weight                          \ttorch.Size([80])              \t        80\n",
      "conv2.1.bias                            \ttorch.Size([80])              \t        80\n",
      "classifier.0.weight                     \ttorch.Size([256, 10560])      \t   2703360\n",
      "classifier.0.bias                       \ttorch.Size([256])             \t       256\n",
      "classifier.2.weight                     \ttorch.Size([11, 256])         \t      2816\n",
      "classifier.2.bias                       \ttorch.Size([11])              \t        11\n"
     ]
    }
   ],
   "source": [
    "net = ModulationClassifier()\n",
    "\n",
    "learning_rate = 0.01\n",
    "\n",
    "criterion = nn.CrossEntropyLoss()\n",
    "optimizer = torch.optim.SGD(net.parameters(), lr=learning_rate, momentum=0.9)\n",
    "\n",
    "device = torch.device(\"cuda:0\" if torch.cuda.is_available() else \"cpu\")\n",
    "\n",
    "# Assuming that we are on a CUDA machine, this should print a CUDA device:\n",
    "print(device)\n",
    "net.to(device)\n",
    "\n",
    "print(net)\n",
    "for name, param in net.named_parameters():\n",
    "    #if param.requires_grad:\n",
    "    print('{:s}\\t{:s}\\t{:s}'.format(name.ljust(40), str(param.size()).ljust(30),str(param.nelement()).rjust(10)))"
   ]
  },
  {
   "cell_type": "markdown",
   "metadata": {},
   "source": [
    "## Train NN"
   ]
  },
  {
   "cell_type": "code",
   "execution_count": 23,
   "metadata": {},
   "outputs": [],
   "source": [
    "def validation_function(net, criterion):\n",
    "    PATH = './temp_model_val.pth'\n",
    "    torch.save(net.state_dict(), PATH) \n",
    "\n",
    "    model1 = ModulationClassifier()\n",
    "    model1.to(device)\n",
    "    model1.load_state_dict(torch.load(PATH))\n",
    "    \n",
    "    val_loss = 0\n",
    "    total = 0\n",
    "    model1.eval()\n",
    "    for i, data in enumerate(valloader):\n",
    "        xv, yv, zv = data\n",
    "        xv, yv, zv = xv.to(device), yv.to(device), zv.to(device)\n",
    "\n",
    "        yv_pred = model1.forward(xv)\n",
    "        batchv_loss = criterion(yv_pred, yv.long())\n",
    "        val_loss += batchv_loss.item()\n",
    "\n",
    "        total += 128\n",
    "        \n",
    "    #print(val_loss)\n",
    "        \n",
    "    return val_loss"
   ]
  },
  {
   "cell_type": "code",
   "execution_count": 24,
   "metadata": {
    "scrolled": true
   },
   "outputs": [
    {
     "name": "stdout",
     "output_type": "stream",
     "text": [
      "Epoch # 0 Correct: 52019 Loss:  0.7266184337115367 Val Loss 0.495158359985943\n",
      "Epoch # 1 Correct: 58803 Loss:  0.4777711737789585 Val Loss 0.43913901706998665\n",
      "Epoch # 2 Correct: 60830 Loss:  0.41577478253168126 Val Loss 0.42862019728320516\n",
      "Epoch # 3 Correct: 62043 Loss:  0.38227404309962676 Val Loss 0.39709701880004056\n",
      "Epoch # 4 Correct: 63084 Loss:  0.3546463265965547 Val Loss 0.3881848392098449\n",
      "Epoch # 5 Correct: 64234 Loss:  0.32798779305330544 Val Loss 0.38757530986800676\n",
      "Epoch # 6 Correct: 65337 Loss:  0.30130171327792926 Val Loss 0.4086051340713057\n",
      "Epoch # 7 Correct: 66399 Loss:  0.2762696513305867 Val Loss 0.4209156999754351\n",
      "Epoch # 8 Correct: 67324 Loss:  0.2510707755619505 Val Loss 0.44669188778529795\n",
      "Epoch # 9 Correct: 68380 Loss:  0.22630051353890634 Val Loss 0.43747128188148027\n",
      "Epoch # 10 Correct: 69251 Loss:  0.2031631961687657 Val Loss 0.45443264343017753\n",
      "Epoch # 11 Correct: 70098 Loss:  0.1840161551099481 Val Loss 0.48906322643738387\n",
      "Epoch # 12 Correct: 70709 Loss:  0.16617866291160202 Val Loss 0.5156992732785469\n",
      "Epoch # 13 Correct: 71364 Loss:  0.14845577089047907 Val Loss 0.5398495028647341\n",
      "Epoch # 14 Correct: 72014 Loss:  0.1315852007472832 Val Loss 0.5467655929022057\n",
      "Epoch # 15 Correct: 72609 Loss:  0.1189822018443548 Val Loss 0.5815225929714912\n",
      "Epoch # 16 Correct: 72691 Loss:  0.11099990496900787 Val Loss 0.6363869006781615\n",
      "Epoch # 17 Correct: 72933 Loss:  0.10550515585117957 Val Loss 0.6687857619551725\n",
      "Epoch # 18 Correct: 73036 Loss:  0.10169883350225976 Val Loss 0.6651279234377913\n",
      "Epoch # 19 Correct: 73239 Loss:  0.09523990073943653 Val Loss 0.690190906441489\n",
      "Epoch # 20 Correct: 73474 Loss:  0.08794836406642416 Val Loss 0.7351066876751507\n",
      "Epoch # 21 Correct: 73582 Loss:  0.08356727699925535 Val Loss 0.7302546628223833\n",
      "Epoch # 22 Correct: 73663 Loss:  0.08007396107223937 Val Loss 0.747170162293338\n",
      "Epoch # 23 Correct: 73736 Loss:  0.07781254354728219 Val Loss 0.7865457118943681\n",
      "Epoch # 24 Correct: 73725 Loss:  0.08015185910156399 Val Loss 0.7682419486286104\n",
      "Finished Training\n"
     ]
    }
   ],
   "source": [
    "num_epochs = 25\n",
    "epoch_loss_array = np.zeros(num_epochs)\n",
    "\n",
    "historyEpoch = []\n",
    "historyLoss = []\n",
    "historyValLoss = []\n",
    "\n",
    "for epoch in range(num_epochs):  # loop over the dataset multiple times\n",
    "\n",
    "    running_loss = 0\n",
    "    correct_test = 0\n",
    "    historyEpoch.append(epoch)\n",
    "    \n",
    "    for i, data in enumerate(trainloader):\n",
    "        x,y,z = data\n",
    "        x,y,z = x.to(device), y.to(device), z.to(device)\n",
    "        optimizer.zero_grad()\n",
    "\n",
    "        y_pred = net.forward(x)   # Run batch\n",
    "        correct_test += torch.sum((torch.argmax(y_pred,dim=1) == y)).item()\n",
    "        loss = criterion(y_pred, y.long())  # Wants indexes for labels, *not* one-hot encodings.\n",
    "        #print(y_pred)\n",
    "        #print(loss.item())\n",
    "        loss.backward()                               # Compute backprop\n",
    "        optimizer.step()                              # Move a step in the right direction\n",
    "\n",
    "        running_loss += loss.item()\n",
    "        \n",
    "    valloss = validation_function(net, criterion)\n",
    "    print(\"Epoch #\", epoch, 'Correct:', correct_test,\"Loss: \", running_loss/len(trainloader), 'Val Loss', valloss/len(valloader))\n",
    "    historyLoss.append(running_loss/len(trainloader))\n",
    "    historyValLoss.append(valloss/len(valloader))\n",
    "\n",
    "print('Finished Training')\n",
    "plt.show()"
   ]
  },
  {
   "cell_type": "code",
   "execution_count": 26,
   "metadata": {},
   "outputs": [
    {
     "data": {
      "text/plain": [
       "<matplotlib.legend.Legend at 0x7f5572775d68>"
      ]
     },
     "execution_count": 26,
     "metadata": {},
     "output_type": "execute_result"
    },
    {
     "data": {
      "image/png": "[encoded data removed]",
      "text/plain": [
       "<Figure size 432x288 with 1 Axes>"
      ]
     },
     "metadata": {
      "needs_background": "light"
     },
     "output_type": "display_data"
    }
   ],
   "source": [
    "plt.figure()\n",
    "plt.title('Training performance')\n",
    "plt.plot(historyEpoch, historyLoss, 'b.-',label='train loss')\n",
    "plt.plot(historyEpoch, historyValLoss,'r.-', label='val_error')\n",
    "plt.legend()"
   ]
  },
  {
   "cell_type": "markdown",
   "metadata": {},
   "source": [
    "## Test NN"
   ]
  },
  {
   "cell_type": "code",
   "execution_count": 27,
   "metadata": {},
   "outputs": [
    {
     "name": "stdout",
     "output_type": "stream",
     "text": [
      "31419 126500 Accuracy of the network on the test images: 24.837154 %\n"
     ]
    }
   ],
   "source": [
    "PATH = './temp_model_new.pth'\n",
    "torch.save(net.state_dict(), PATH) \n",
    "\n",
    "model1 = ModulationClassifier()\n",
    "model1.to(device)\n",
    "model1.load_state_dict(torch.load(PATH))\n",
    "\n",
    "correct = 0\n",
    "total = 0\n",
    "\n",
    "snr_accuracy = dict()\n",
    "for i in range(-20,20,2):\n",
    "    k = str(i)\n",
    "    snr_accuracy[k] = [0,0]\n",
    "    \n",
    "model1.eval()\n",
    "for i,data in enumerate(testloader1):\n",
    "    x,y,z = data\n",
    "    x,y,z = x.to(device), y.to(device), z.to(device)\n",
    "\n",
    "    y_pred = model1.forward(x)\n",
    "    correct += torch.sum((torch.argmax(y_pred,dim=1) == y)).item()\n",
    "    snr_value = z.item()\n",
    "\n",
    "    snr_accuracy[str(int(snr_value))][0] += torch.sum((torch.argmax(y_pred,dim=1) == y)).item()\n",
    "    snr_accuracy[str(int(snr_value))][1] += 1\n",
    "    \n",
    "    total += 1 #Increase by batch size\n",
    "\n",
    "for i,data in enumerate(testloader2):\n",
    "    x,y,z = data\n",
    "    x,y,z = x.to(device), y.to(device), z.to(device)\n",
    "\n",
    "    y_pred = model1.forward(x)\n",
    "    correct += torch.sum((torch.argmax(y_pred,dim=1) == y)).item()\n",
    "    snr_value = z.item()\n",
    "\n",
    "    snr_accuracy[str(int(snr_value))][0] += torch.sum((torch.argmax(y_pred,dim=1) == y)).item()\n",
    "    snr_accuracy[str(int(snr_value))][1] += 1\n",
    "    \n",
    "    total += 1 #Increase by batch size\n",
    "\n",
    "print('%d %d Accuracy of the network on the test images: %f %%' % (correct, total,\n",
    "    100 * correct / total))"
   ]
  },
  {
   "cell_type": "code",
   "execution_count": 28,
   "metadata": {},
   "outputs": [
    {
     "name": "stdout",
     "output_type": "stream",
     "text": [
      "SNR -20 Accuracy 9.136364\n",
      "SNR -18 Accuracy 9.027273\n",
      "SNR -16 Accuracy 9.018182\n",
      "SNR -14 Accuracy 9.100000\n",
      "SNR -12 Accuracy 9.154545\n",
      "SNR -10 Accuracy 9.309091\n",
      "SNR -8 Accuracy 10.409091\n",
      "SNR -6 Accuracy 14.472727\n",
      "SNR -4 Accuracy 27.300000\n",
      "SNR -2 Accuracy 57.672727\n",
      "SNR 0 Accuracy 75.057078\n",
      "SNR 2 Accuracy 79.573171\n",
      "SNR 4 Accuracy 81.386633\n",
      "SNR 6 Accuracy 81.985294\n",
      "SNR 8 Accuracy 80.272512\n",
      "SNR 10 Accuracy 82.123246\n",
      "SNR 12 Accuracy 80.645161\n",
      "SNR 14 Accuracy 81.818182\n",
      "SNR 16 Accuracy 81.146026\n",
      "SNR 18 Accuracy 83.215548\n"
     ]
    }
   ],
   "source": [
    "snr_accuracy_array = []\n",
    "for key, values in snr_accuracy.items():\n",
    "    if(values[1]):\n",
    "        print('SNR {:s} Accuracy {:f}'.format(key, 100*values[0]/values[1]))\n",
    "        snr_accuracy_array.append(100*values[0]/values[1])"
   ]
  },
  {
   "cell_type": "code",
   "execution_count": 29,
   "metadata": {},
   "outputs": [
    {
     "data": {
      "image/png": "[encoded data removed]",
      "text/plain": [
       "<Figure size 432x288 with 1 Axes>"
      ]
     },
     "metadata": {
      "needs_background": "light"
     },
     "output_type": "display_data"
    }
   ],
   "source": [
    "plt.plot(snr_types, snr_accuracy_array,'b.-')\n",
    "plt.xlabel('SNR in dB')\n",
    "plt.ylabel('Accuracy')\n",
    "plt.title('Accuracy vs SNR')\n",
    "plt.show()"
   ]
  },
  {
   "cell_type": "code",
   "execution_count": null,
   "metadata": {},
   "outputs": [],
   "source": []
  }
 ],
 "metadata": {
  "kernelspec": {
   "display_name": "Python 3",
   "language": "python",
   "name": "python3"
  },
  "language_info": {
   "codemirror_mode": {
    "name": "ipython",
    "version": 3
   },
   "file_extension": ".py",
   "mimetype": "text/x-python",
   "name": "python",
   "nbconvert_exporter": "python",
   "pygments_lexer": "ipython3",
   "version": "3.7.3"
  }
 },
 "nbformat": 4,
 "nbformat_minor": 2
}
